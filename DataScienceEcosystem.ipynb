{
 "cells": [
  {
   "cell_type": "markdown",
   "id": "508654e6-b559-46e2-a3da-0cad6a373195",
   "metadata": {},
   "source": [
    "# Data Science Tools and Ecosystem"
   ]
  },
  {
   "cell_type": "markdown",
   "id": "39a697bc-4f4a-4750-b9a6-e7785a18bba5",
   "metadata": {},
   "source": [
    "In this notebook, Data Science Tools and Ecosystem are summarized."
   ]
  },
  {
   "cell_type": "markdown",
   "id": "a2504713-119a-4bb8-a6ff-8356831e1c21",
   "metadata": {},
   "source": [
    "Some of the popular languages that Data Scientists use are:\n",
    "1. Python\n",
    "2. R\n",
    "3. Java\n",
    "4. Julia\n",
    "5. Scala"
   ]
  },
  {
   "cell_type": "markdown",
   "id": "cc6ebf13-f492-4086-8b22-1d78c38395ec",
   "metadata": {},
   "source": [
    "Some of the commonly used libraries used by Data Scientists include:\n",
    "1. TesnorFlow\n",
    "2. NumPy\n",
    "3. SciPy\n",
    "4. Pandas\n",
    "5. Matplotlib"
   ]
  },
  {
   "cell_type": "markdown",
   "id": "c54b548a-bd49-4028-9757-2c4a402d60a0",
   "metadata": {},
   "source": [
    "| Data Science Tools |\n",
    "|--------------------|\n",
    "| R Studio |\n",
    "| JupyterLab |\n",
    "| VS Code |"
   ]
  },
  {
   "cell_type": "markdown",
   "id": "650692f8-2fb8-46af-9621-bb61933efbc0",
   "metadata": {},
   "source": [
    "### Below are a few examples of evaluating arithmetic expressions in Python"
   ]
  },
  {
   "cell_type": "code",
   "execution_count": 2,
   "id": "b24a819c-4cbb-401a-b050-d38684cdc2fb",
   "metadata": {
    "tags": []
   },
   "outputs": [
    {
     "data": {
      "text/plain": [
       "17"
      ]
     },
     "execution_count": 2,
     "metadata": {},
     "output_type": "execute_result"
    }
   ],
   "source": [
    "# This a simple arithmetic expression to mutiply then add integers\n",
    "(3*4)+5"
   ]
  },
  {
   "cell_type": "code",
   "execution_count": 3,
   "id": "c75b5990-37ac-4026-bb85-8e6deebd1ef5",
   "metadata": {
    "tags": []
   },
   "outputs": [
    {
     "data": {
      "text/plain": [
       "3.3333333333333335"
      ]
     },
     "execution_count": 3,
     "metadata": {},
     "output_type": "execute_result"
    }
   ],
   "source": [
    "# This will convert 200 minutes to hours by diving by 60\n",
    "200/60"
   ]
  },
  {
   "cell_type": "markdown",
   "id": "4af6b595-0695-42db-8a66-154b9fcacaf5",
   "metadata": {
    "tags": []
   },
   "source": [
    "**Objectives:**\n",
    "\n",
    "List popular languages for Data Science\n",
    "* Python\n",
    "* R\n",
    "* Java\n",
    "* Julia\n",
    "* Scala\n"
   ]
  },
  {
   "cell_type": "markdown",
   "id": "78a5529b-9abb-4243-b528-2cac64a81195",
   "metadata": {},
   "source": [
    "## Author\n",
    "Anu Kaladharan"
   ]
  },
  {
   "cell_type": "code",
   "execution_count": null,
   "id": "684a57d9-4d68-475a-9790-4d0ad2b8e269",
   "metadata": {},
   "outputs": [],
   "source": []
  }
 ],
 "metadata": {
  "kernelspec": {
   "display_name": "Python",
   "language": "python",
   "name": "conda-env-python-py"
  },
  "language_info": {
   "codemirror_mode": {
    "name": "ipython",
    "version": 3
   },
   "file_extension": ".py",
   "mimetype": "text/x-python",
   "name": "python",
   "nbconvert_exporter": "python",
   "pygments_lexer": "ipython3",
   "version": "3.7.12"
  }
 },
 "nbformat": 4,
 "nbformat_minor": 5
}
